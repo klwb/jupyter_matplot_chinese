{
 "cells": [
  {
   "cell_type": "code",
   "execution_count": null,
   "id": "8204b165-fbaf-43c5-b9b9-e73bbf134b0f",
   "metadata": {},
   "outputs": [],
   "source": [
    "#找到matplotlib字体目录，将中文字体库复制过去\n",
    "!cp ./SimHei.ttf $(find /opt/conda/lib/ -name \"matplotlib\" -type d)/mpl-data/fonts/ttf/\n",
    "#找到配置文件备份到当前jupyterLab根目录下\n",
    "!cp $(find /opt/conda/lib/ -name \"matplotlibrc\" -type f) ./matplotlibrc\n",
    "#更改配置\n",
    "!sed -i.bak 's/#font\\.family:/font.family:/' ./matplotlibrc\n",
    "#更改配置\n",
    "!sed -i.bak 's/#font\\.sans-serif:/font.sans-serif: SimHei,/' ./matplotlibrc\n",
    "#复制配置文件到matplotlib对应目录下\n",
    "!cp ./matplotlibrc $(dirname $(find /opt/conda/lib/ -name \"matplotlibrc\" -type f))"
   ]
  },
  {
   "cell_type": "code",
   "execution_count": null,
   "id": "c9f7f8ad-648e-4033-8da5-2cf93a89aa8e",
   "metadata": {},
   "outputs": [],
   "source": [
    "import shutil\n",
    "import matplotlib\n",
    "shutil.rmtree(matplotlib.get_cachedir())"
   ]
  },
  {
   "cell_type": "markdown",
   "id": "4fc02fcd-ea23-4f6f-a6d1-18bd26ed77d3",
   "metadata": {},
   "source": [
    "### 重启JupyterLab\n",
    "- `Ctrl+C（或Cmd+C）`\n",
    "- `jupyter lab`\n",
    "\n",
    "或者\n",
    "\n",
    "- `docker restart jupyter[你的容器名]`"
   ]
  },
  {
   "cell_type": "code",
   "execution_count": null,
   "id": "9c8acdce-8bcb-41f1-aa97-8fccc3f6160d",
   "metadata": {},
   "outputs": [],
   "source": []
  }
 ],
 "metadata": {
  "kernelspec": {
   "display_name": "Python 3 (ipykernel)",
   "language": "python",
   "name": "python3"
  },
  "language_info": {
   "codemirror_mode": {
    "name": "ipython",
    "version": 3
   },
   "file_extension": ".py",
   "mimetype": "text/x-python",
   "name": "python",
   "nbconvert_exporter": "python",
   "pygments_lexer": "ipython3",
   "version": "3.11.3"
  }
 },
 "nbformat": 4,
 "nbformat_minor": 5
}
